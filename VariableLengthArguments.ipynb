{
 "metadata": {
  "language_info": {
   "codemirror_mode": {
    "name": "ipython",
    "version": 3
   },
   "file_extension": ".py",
   "mimetype": "text/x-python",
   "name": "python",
   "nbconvert_exporter": "python",
   "pygments_lexer": "ipython3",
   "version": "3.9.2"
  },
  "orig_nbformat": 2,
  "kernelspec": {
   "name": "pythonjvsc74a57bd034485712827e820f546f4f1c931a62b71ccff1ebd0099144232c128b6294c001",
   "display_name": "Python 3.9.2  ('.venv': venv)"
  },
  "metadata": {
   "interpreter": {
    "hash": "34485712827e820f546f4f1c931a62b71ccff1ebd0099144232c128b6294c001"
   }
  }
 },
 "nbformat": 4,
 "nbformat_minor": 2,
 "cells": [
  {
   "cell_type": "code",
   "execution_count": 1,
   "metadata": {},
   "outputs": [],
   "source": [
    "def print_fn(*args):\n",
    "    args_type = type(args)\n",
    "    print(args_type)\n",
    "    print(args)"
   ]
  },
  {
   "cell_type": "code",
   "execution_count": 2,
   "metadata": {},
   "outputs": [
    {
     "output_type": "stream",
     "name": "stdout",
     "text": [
      "<class 'tuple'>\n()\n"
     ]
    }
   ],
   "source": [
    "print_fn()"
   ]
  },
  {
   "cell_type": "code",
   "execution_count": 3,
   "metadata": {},
   "outputs": [
    {
     "output_type": "stream",
     "name": "stdout",
     "text": [
      "<class 'tuple'>\n('Bob',)\n"
     ]
    }
   ],
   "source": [
    "print_fn(\"Bob\")"
   ]
  },
  {
   "cell_type": "code",
   "execution_count": 4,
   "metadata": {},
   "outputs": [
    {
     "output_type": "stream",
     "name": "stdout",
     "text": [
      "<class 'tuple'>\n('Bob', 'Peter')\n"
     ]
    }
   ],
   "source": [
    "print_fn(\"Bob\", \"Peter\")"
   ]
  },
  {
   "cell_type": "code",
   "execution_count": 6,
   "metadata": {},
   "outputs": [
    {
     "output_type": "stream",
     "name": "stdout",
     "text": [
      "<class 'tuple'>\n(['Greg', 'Claudia', 'Bob', 'Alice', 'Steve', 'Jim'],)\n"
     ]
    }
   ],
   "source": [
    "names_list = [\"Greg\", \"Claudia\", \"Bob\", \"Alice\", \"Steve\", \"Jim\"]\n",
    "print_fn(names_list)"
   ]
  },
  {
   "cell_type": "code",
   "execution_count": 7,
   "metadata": {},
   "outputs": [
    {
     "output_type": "stream",
     "name": "stdout",
     "text": [
      "<class 'tuple'>\n('Greg', 'Claudia', 'Bob', 'Alice', 'Steve', 'Jim')\n"
     ]
    }
   ],
   "source": [
    "print_fn(*names_list)"
   ]
  },
  {
   "cell_type": "code",
   "execution_count": 8,
   "metadata": {},
   "outputs": [],
   "source": [
    "def students_in_college(college, city, *students):\n",
    "    print(\"College: \", college)\n",
    "    print(\"City: \", city)\n",
    "    print(\"Students: \", students)"
   ]
  },
  {
   "cell_type": "code",
   "execution_count": 9,
   "metadata": {},
   "outputs": [
    {
     "output_type": "stream",
     "name": "stdout",
     "text": [
      "College:  Columbia\nCity:  New York\nStudents:  ()\n"
     ]
    }
   ],
   "source": [
    "students_in_college(\"Columbia\", \"New York\")"
   ]
  },
  {
   "cell_type": "code",
   "execution_count": 11,
   "metadata": {},
   "outputs": [
    {
     "output_type": "stream",
     "name": "stdout",
     "text": [
      "College:  Columbia\nCity:  New York\nStudents:  ('Peter', 'Julie')\n"
     ]
    }
   ],
   "source": [
    "students_in_college(\"Columbia\", \"New York\", \"Peter\", \"Julie\")"
   ]
  },
  {
   "cell_type": "code",
   "execution_count": 12,
   "metadata": {},
   "outputs": [
    {
     "output_type": "stream",
     "name": "stdout",
     "text": [
      "College:  Columbia\nCity:  New York\nStudents:  ('Bob',)\n"
     ]
    }
   ],
   "source": [
    "students_in_college(\"Columbia\", \"New York\", \"Bob\")"
   ]
  },
  {
   "cell_type": "code",
   "execution_count": 13,
   "metadata": {},
   "outputs": [
    {
     "output_type": "stream",
     "name": "stdout",
     "text": [
      "College:  Columbia\nCity:  New York\nStudents:  ('Peter', 'Julie', 'Trista')\n"
     ]
    }
   ],
   "source": [
    "students_in_college(\"Columbia\", \"New York\", \"Peter\", \"Julie\", \"Trista\")"
   ]
  },
  {
   "cell_type": "code",
   "execution_count": 14,
   "metadata": {},
   "outputs": [
    {
     "output_type": "error",
     "ename": "SyntaxError",
     "evalue": "positional argument follows keyword argument (<ipython-input-14-133cae5aaf47>, line 1)",
     "traceback": [
      "\u001b[1;36m  File \u001b[1;32m\"<ipython-input-14-133cae5aaf47>\"\u001b[1;36m, line \u001b[1;32m1\u001b[0m\n\u001b[1;33m    students_in_college(college=\"Columbia\", city=\"New York\", \"Peter\", \"Julie\", \"Trista\")\u001b[0m\n\u001b[1;37m                                                                                       ^\u001b[0m\n\u001b[1;31mSyntaxError\u001b[0m\u001b[1;31m:\u001b[0m positional argument follows keyword argument\n"
     ]
    }
   ],
   "source": [
    "students_in_college(college=\"Columbia\", city=\"New York\", \"Peter\", \"Julie\", \"Trista\")"
   ]
  },
  {
   "cell_type": "code",
   "execution_count": 15,
   "metadata": {},
   "outputs": [],
   "source": [
    "def students_in_college(*students, college, city):\n",
    "    print(\"College: \", college)\n",
    "    print(\"City: \", city)\n",
    "    print(\"Students: \", students)"
   ]
  },
  {
   "cell_type": "code",
   "execution_count": 16,
   "metadata": {},
   "outputs": [
    {
     "output_type": "error",
     "ename": "SyntaxError",
     "evalue": "positional argument follows keyword argument (<ipython-input-16-133cae5aaf47>, line 1)",
     "traceback": [
      "\u001b[1;36m  File \u001b[1;32m\"<ipython-input-16-133cae5aaf47>\"\u001b[1;36m, line \u001b[1;32m1\u001b[0m\n\u001b[1;33m    students_in_college(college=\"Columbia\", city=\"New York\", \"Peter\", \"Julie\", \"Trista\")\u001b[0m\n\u001b[1;37m                                                                                       ^\u001b[0m\n\u001b[1;31mSyntaxError\u001b[0m\u001b[1;31m:\u001b[0m positional argument follows keyword argument\n"
     ]
    }
   ],
   "source": [
    "students_in_college(college=\"Columbia\", city=\"New York\", \"Peter\", \"Julie\", \"Trista\")"
   ]
  },
  {
   "cell_type": "code",
   "execution_count": 17,
   "metadata": {},
   "outputs": [
    {
     "output_type": "error",
     "ename": "TypeError",
     "evalue": "students_in_college() missing 2 required keyword-only arguments: 'college' and 'city'",
     "traceback": [
      "\u001b[1;31m---------------------------------------------------------------------------\u001b[0m",
      "\u001b[1;31mTypeError\u001b[0m                                 Traceback (most recent call last)",
      "\u001b[1;32m<ipython-input-17-09793ea67495>\u001b[0m in \u001b[0;36m<module>\u001b[1;34m\u001b[0m\n\u001b[1;32m----> 1\u001b[1;33m \u001b[0mstudents_in_college\u001b[0m\u001b[1;33m(\u001b[0m\u001b[1;34m\"Columbia\"\u001b[0m\u001b[1;33m,\u001b[0m \u001b[1;34m\"New York\"\u001b[0m\u001b[1;33m,\u001b[0m \u001b[1;34m\"Bob\"\u001b[0m\u001b[1;33m)\u001b[0m\u001b[1;33m\u001b[0m\u001b[1;33m\u001b[0m\u001b[0m\n\u001b[0m",
      "\u001b[1;31mTypeError\u001b[0m: students_in_college() missing 2 required keyword-only arguments: 'college' and 'city'"
     ]
    }
   ],
   "source": [
    "students_in_college(\"Columbia\", \"New York\", \"Bob\")"
   ]
  },
  {
   "cell_type": "code",
   "execution_count": 18,
   "metadata": {},
   "outputs": [
    {
     "output_type": "stream",
     "name": "stdout",
     "text": [
      "College:  Columbia\nCity:  New York\nStudents:  ('Bob',)\n"
     ]
    }
   ],
   "source": [
    "students_in_college(\"Bob\", college=\"Columbia\", city=\"New York\")"
   ]
  },
  {
   "cell_type": "code",
   "execution_count": 19,
   "metadata": {},
   "outputs": [
    {
     "output_type": "stream",
     "name": "stdout",
     "text": [
      "College:  Columbia\nCity:  New York\nStudents:  ('Bob', 'Peter')\n"
     ]
    }
   ],
   "source": [
    "students_in_college(\"Bob\", \"Peter\", college=\"Columbia\", city=\"New York\")"
   ]
  },
  {
   "cell_type": "code",
   "execution_count": 20,
   "metadata": {},
   "outputs": [],
   "source": [
    "def students_details(**kwargs):\n",
    "    print(type(kwargs))\n",
    "    print(kwargs)"
   ]
  },
  {
   "cell_type": "code",
   "execution_count": 21,
   "metadata": {},
   "outputs": [
    {
     "output_type": "stream",
     "name": "stdout",
     "text": [
      "<class 'dict'>\n{}\n"
     ]
    }
   ],
   "source": [
    "students_details()"
   ]
  },
  {
   "cell_type": "code",
   "execution_count": 22,
   "metadata": {},
   "outputs": [
    {
     "output_type": "stream",
     "name": "stdout",
     "text": [
      "<class 'dict'>\n{'name': 'John'}\n"
     ]
    }
   ],
   "source": [
    "students_details(name=\"John\")"
   ]
  },
  {
   "cell_type": "code",
   "execution_count": 23,
   "metadata": {},
   "outputs": [
    {
     "output_type": "stream",
     "name": "stdout",
     "text": [
      "<class 'dict'>\n{'name': 'John', 'age': 18}\n"
     ]
    }
   ],
   "source": [
    "students_details(name=\"John\", age=18)"
   ]
  },
  {
   "cell_type": "code",
   "execution_count": 24,
   "metadata": {},
   "outputs": [
    {
     "output_type": "stream",
     "name": "stdout",
     "text": [
      "<class 'dict'>\n{'name': 'John', 'age': 18, 'college': 'Boston University'}\n"
     ]
    }
   ],
   "source": [
    "students_details(name=\"John\", age=18, college=\"Boston University\")"
   ]
  },
  {
   "cell_type": "code",
   "execution_count": 25,
   "metadata": {},
   "outputs": [],
   "source": [
    "def student_details(**details):\n",
    "    for key, value in details.items():\n",
    "        print(key, value)"
   ]
  },
  {
   "cell_type": "code",
   "execution_count": 26,
   "metadata": {},
   "outputs": [
    {
     "output_type": "stream",
     "name": "stdout",
     "text": [
      "name John\nage 18\ncollege Boston University\n"
     ]
    }
   ],
   "source": [
    "student_details(name=\"John\", age=18, college=\"Boston University\")"
   ]
  },
  {
   "cell_type": "code",
   "execution_count": 28,
   "metadata": {},
   "outputs": [],
   "source": [
    "details_dictionary = {'name':\"John\", 'age':18, 'college':\"Boston University\"}"
   ]
  },
  {
   "cell_type": "code",
   "execution_count": 30,
   "metadata": {},
   "outputs": [
    {
     "output_type": "stream",
     "name": "stdout",
     "text": [
      "name John\nage 18\ncollege Boston University\n"
     ]
    }
   ],
   "source": [
    "student_details(**details_dictionary)"
   ]
  },
  {
   "cell_type": "code",
   "execution_count": 31,
   "metadata": {},
   "outputs": [],
   "source": [
    "def student_details(**details):\n",
    "    if 'name' in details:\n",
    "        print(\"Name: \", details['name'])\n",
    "    if 'age' in details:\n",
    "        print(\"Age: \", details['age'])\n",
    "    if 'college' in details:\n",
    "        print(\"College: \", details['college'])"
   ]
  },
  {
   "cell_type": "code",
   "execution_count": 32,
   "metadata": {},
   "outputs": [
    {
     "output_type": "stream",
     "name": "stdout",
     "text": [
      "Name:  John\n"
     ]
    }
   ],
   "source": [
    "student_details(name=\"John\")"
   ]
  },
  {
   "cell_type": "code",
   "execution_count": 33,
   "metadata": {},
   "outputs": [
    {
     "output_type": "stream",
     "name": "stdout",
     "text": [
      "Name:  John\nAge:  18\nCollege:  Boston University\n"
     ]
    }
   ],
   "source": [
    "student_details(name=\"John\", age=18, college=\"Boston University\")"
   ]
  },
  {
   "cell_type": "code",
   "execution_count": 34,
   "metadata": {},
   "outputs": [
    {
     "output_type": "stream",
     "name": "stdout",
     "text": [
      "Name:  John\nAge:  18\nCollege:  Boston University\n"
     ]
    }
   ],
   "source": [
    "student_details(**details_dictionary)"
   ]
  },
  {
   "cell_type": "code",
   "execution_count": 35,
   "metadata": {},
   "outputs": [],
   "source": [
    "def students_in_college(*student_names, **college_details):\n",
    "    print(\"Students--\")\n",
    "    for s in student_names:\n",
    "        print(s)\n",
    "    print()\n",
    "    print(\"College Details--\")\n",
    "    for key, value in college_details.items():\n",
    "        print(key, value)"
   ]
  },
  {
   "cell_type": "code",
   "execution_count": 36,
   "metadata": {},
   "outputs": [
    {
     "output_type": "stream",
     "name": "stdout",
     "text": [
      "Students--\nAlison\nBob\nCharlie\n\nCollege Details--\nname Stanford\ncity Palo Alto\n"
     ]
    }
   ],
   "source": [
    "students_in_college(\"Alison\", \"Bob\", \"Charlie\", name=\"Stanford\", city=\"Palo Alto\")"
   ]
  },
  {
   "cell_type": "code",
   "execution_count": null,
   "metadata": {},
   "outputs": [],
   "source": []
  }
 ]
}