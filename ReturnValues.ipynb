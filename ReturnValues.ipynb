{
 "metadata": {
  "language_info": {
   "codemirror_mode": {
    "name": "ipython",
    "version": 3
   },
   "file_extension": ".py",
   "mimetype": "text/x-python",
   "name": "python",
   "nbconvert_exporter": "python",
   "pygments_lexer": "ipython3",
   "version": "3.9.2"
  },
  "orig_nbformat": 2,
  "kernelspec": {
   "name": "pythonjvsc74a57bd034485712827e820f546f4f1c931a62b71ccff1ebd0099144232c128b6294c001",
   "display_name": "Python 3.9.2  ('.venv': venv)"
  },
  "metadata": {
   "interpreter": {
    "hash": "34485712827e820f546f4f1c931a62b71ccff1ebd0099144232c128b6294c001"
   }
  }
 },
 "nbformat": 4,
 "nbformat_minor": 2,
 "cells": [
  {
   "cell_type": "code",
   "execution_count": 1,
   "metadata": {},
   "outputs": [],
   "source": [
    "def find_first_capital_letter(some_string):\n",
    "    capital_letter = None\n",
    "    for ch in some_string:\n",
    "        if ch.upper() == ch and ch != \" \":\n",
    "            capital_letter =  ch\n",
    "            break\n",
    "    \n",
    "    if capital_letter is None:\n",
    "        return \"No capital letters found\"\n",
    "    else:\n",
    "        return \"First capital letter \" + capital_letter\n",
    "        "
   ]
  },
  {
   "cell_type": "code",
   "execution_count": 2,
   "metadata": {},
   "outputs": [
    {
     "output_type": "execute_result",
     "data": {
      "text/plain": [
       "'First capital letter T'"
      ]
     },
     "metadata": {},
     "execution_count": 2
    }
   ],
   "source": [
    "find_first_capital_letter(\" gusTavo\")"
   ]
  },
  {
   "cell_type": "code",
   "execution_count": 3,
   "metadata": {},
   "outputs": [
    {
     "output_type": "execute_result",
     "data": {
      "text/plain": [
       "'No capital letters found'"
      ]
     },
     "metadata": {},
     "execution_count": 3
    }
   ],
   "source": [
    "find_first_capital_letter(\"gustavo pierre\")"
   ]
  },
  {
   "cell_type": "code",
   "execution_count": 4,
   "metadata": {},
   "outputs": [],
   "source": [
    "def generate_list(name, num_elements):\n",
    "    print(\"Generate list using list comprehension\")\n",
    "    return_list = [name for i in range(num_elements)]\n",
    "\n",
    "    return return_list"
   ]
  },
  {
   "cell_type": "code",
   "execution_count": 5,
   "metadata": {},
   "outputs": [
    {
     "output_type": "stream",
     "name": "stdout",
     "text": [
      "Generate list using list comprehension\n"
     ]
    },
    {
     "output_type": "execute_result",
     "data": {
      "text/plain": [
       "['Gustavo',\n",
       " 'Gustavo',\n",
       " 'Gustavo',\n",
       " 'Gustavo',\n",
       " 'Gustavo',\n",
       " 'Gustavo',\n",
       " 'Gustavo',\n",
       " 'Gustavo']"
      ]
     },
     "metadata": {},
     "execution_count": 5
    }
   ],
   "source": [
    "generate_list(\"Gustavo\", 8)"
   ]
  },
  {
   "cell_type": "code",
   "execution_count": 6,
   "metadata": {},
   "outputs": [
    {
     "output_type": "stream",
     "name": "stdout",
     "text": [
      "Generate list using list comprehension\n"
     ]
    },
    {
     "output_type": "execute_result",
     "data": {
      "text/plain": [
       "['Gustavo',\n",
       " 'Gustavo',\n",
       " 'Gustavo',\n",
       " 'Gustavo',\n",
       " 'Gustavo',\n",
       " 'Gustavo',\n",
       " 'Gustavo',\n",
       " 'Gustavo']"
      ]
     },
     "metadata": {},
     "execution_count": 6
    }
   ],
   "source": [
    "list_created = generate_list(\"Gustavo\", 8)\n",
    "list_created"
   ]
  },
  {
   "cell_type": "code",
   "execution_count": null,
   "metadata": {},
   "outputs": [],
   "source": []
  }
 ]
}