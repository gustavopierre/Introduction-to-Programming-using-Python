{
 "metadata": {
  "language_info": {
   "codemirror_mode": {
    "name": "ipython",
    "version": 3
   },
   "file_extension": ".py",
   "mimetype": "text/x-python",
   "name": "python",
   "nbconvert_exporter": "python",
   "pygments_lexer": "ipython3",
   "version": "3.9.2"
  },
  "orig_nbformat": 2,
  "kernelspec": {
   "name": "pythonjvsc74a57bd034485712827e820f546f4f1c931a62b71ccff1ebd0099144232c128b6294c001",
   "display_name": "Python 3.9.2  ('.venv': venv)"
  },
  "metadata": {
   "interpreter": {
    "hash": "34485712827e820f546f4f1c931a62b71ccff1ebd0099144232c128b6294c001"
   }
  }
 },
 "nbformat": 4,
 "nbformat_minor": 2,
 "cells": [
  {
   "cell_type": "code",
   "execution_count": 2,
   "metadata": {},
   "outputs": [
    {
     "output_type": "stream",
     "name": "stdout",
     "text": [
      "\n",
      "Please wait a moment while I gather a list of all available modules...\n",
      "\n",
      "d:\\Documents\\Estudos\\python\\Introduction_to_Programming_using_Python\\.venv\\lib\\site-packages\\IPython\\kernel\\__init__.py:12: ShimWarning: The `IPython.kernel` package has been deprecated since IPython 4.0.You should import from ipykernel or jupyter_client instead.\n",
      "  warn(\"The `IPython.kernel` package has been deprecated since IPython 4.0.\"\n",
      "d:\\Documents\\Estudos\\python\\Introduction_to_Programming_using_Python\\.venv\\lib\\site-packages\\setuptools\\distutils_patch.py:25: UserWarning: Distutils was imported before Setuptools. This usage is discouraged and may exhibit undesirable behaviors or errors. Please use Setuptools' objects directly or at least import Setuptools first.\n",
      "  warnings.warn(\n",
      "C:\\Users\\gusta\\AppData\\Local\\Programs\\Python\\Python39\\lib\\pkgutil.py:108: VisibleDeprecationWarning: zmq.eventloop.minitornado is deprecated in pyzmq 14.0 and will be removed.\n",
      "    Install tornado itself to use zmq with the tornado IOLoop.\n",
      "    \n",
      "  yield from walk_packages(path, info.name+'.', onerror)\n",
      "IPython             bool_demo           mmapfile            sys\n",
      "__future__          builtin_modules_01  mmsystem            sysconfig\n",
      "_abc                builtins            modulefinder        tabnanny\n",
      "_aix_support        bytearray_demo      msilib              tarfile\n",
      "_ast                bytes_demo          msvcrt              telnetlib\n",
      "_asyncio            bz2                 multiprocessing     tempfile\n",
      "_bisect             cProfile            name_reverser       test\n",
      "_blake2             calendar            netbios             testlauncher\n",
      "_bootlocale         cgi                 netrc               tests\n",
      "_bootsubprocess     cgitb               nntplib             textwrap\n",
      "_bz2                chunk               normalizeForInterpreter this\n",
      "_codecs             circle_demo         normalizeSelection  threading\n",
      "_codecs_cn          cla                 nt                  time\n",
      "_codecs_hk          cmath               ntpath              timeit\n",
      "_codecs_iso2022     cmd                 ntsecuritycon       timer\n",
      "_codecs_jp          code                nturl2path          tkinter\n",
      "_codecs_kr          codecs              numbers             token\n",
      "_codecs_tw          codeop              odbc                tokenize\n",
      "_collections        collections         opcode              tornado\n",
      "_collections_abc    colorama            operator            trace\n",
      "_compat_pickle      colorsys            optparse            traceback\n",
      "_compression        commctrl            os                  tracemalloc\n",
      "_contextvars        compileall          parser              traitlets\n",
      "_csv                completion          parso               tty\n",
      "_ctypes             concurrent          pathlib             tuple_demo\n",
      "_ctypes_test        configparser        pdb                 turtle\n",
      "_datetime           contextlib          perfmon             turtledemo\n",
      "_decimal            contextvars         pickle              types\n",
      "_elementtree        copy                pickleshare         typing\n",
      "_functools          copyreg             pickletools         unicodedata\n",
      "_hashlib            crypt               pip                 unittest\n",
      "_heapq              csv                 pipes               urllib\n",
      "_imp                ctypes              pkg_resources       using_datetime\n",
      "_io                 curses              pkgutil             using_io\n",
      "_json               cythonmagic         platform            using_os\n",
      "_locale             dataclasses         plistlib            using_ospath\n",
      "_lsprof             datetime            poplib              using_random\n",
      "_lzma               dateutil            posixpath           using_sys\n",
      "_markupbase         dbi                 pprint              uu\n",
      "_md5                dbm                 printEnvVariables   uuid\n",
      "_msi                dde                 printEnvVariablesToFile venv\n",
      "_multibytecodec     decimal             profile             visualstudio_py_testlauncher\n",
      "_multiprocessing    decorator           prompt_toolkit      vscode_datascience_helpers\n",
      "_opcode             dict_demo           pstats              warnings\n",
      "_operator           difflib             pty                 wave\n",
      "_osx_support        dis                 py_compile          wcwidth\n",
      "_overlapped         distutils           pyclbr              weakref\n",
      "_peg_parser         doctest             pydoc               webbrowser\n",
      "_pickle             easy_install        pydoc_data          win2kras\n",
      "_py_abc             email               pyexpat             win32api\n",
      "_pydecimal          encodings           pygments            win32clipboard\n",
      "_pyio               ensurepip           pyls_jsonrpc        win32com\n",
      "_queue              enum                pythoncom           win32con\n",
      "_random             errno               pyvsc-run-isolated  win32console\n",
      "_sha1               faulthandler        pywin               win32cred\n",
      "_sha256             filecmp             pywin32_bootstrap   win32crypt\n",
      "_sha3               fileinput           pywin32_testutil    win32cryptcon\n",
      "_sha512             float_demo          pywintypes          win32event\n",
      "_signal             fnmatch             queue               win32evtlog\n",
      "_sitebuiltins       formatter           quopri              win32evtlogutil\n",
      "_socket             fractions           random              win32file\n",
      "_sqlite3            ftplib              range_demo          win32gui\n",
      "_sre                functools           rasutil             win32gui_struct\n",
      "_ssl                gc                  re                  win32help\n",
      "_stat               genericpath         read_text           win32inet\n",
      "_statistics         getopt              readbin             win32inetcon\n",
      "_string             getpass             regcheck            win32job\n",
      "_strptime           gettext             regutil             win32lz\n",
      "_struct             glob                reprlib             win32net\n",
      "_symtable           graphlib            rlcompleter         win32netcon\n",
      "_testbuffer         guess               rmagic              win32pdh\n",
      "_testcapi           gzip                runJediLanguageServer win32pdhquery\n",
      "_testconsole        hashlib             runpy               win32pdhutil\n",
      "_testimportmultiple heapq               sched               win32pipe\n",
      "_testinternalcapi   helo_world          secrets             win32print\n",
      "_testmultiphase     hmac                select              win32process\n",
      "_thread             html                selectors           win32profile\n",
      "_threading_local    http                servicemanager      win32ras\n",
      "_tkinter            idlelib             set_demo            win32rcparser\n",
      "_tracemalloc        imaplib             setuptools          win32security\n",
      "_uuid               imghdr              shell_exec          win32service\n",
      "_warnings           imp                 shelve              win32serviceutil\n",
      "_weakref            import_demo         shlex               win32timezone\n",
      "_weakrefset         importlib           shutil              win32trace\n",
      "_win32sysloader     inspect             signal              win32traceutil\n",
      "_winapi             install_debugpy     site                win32transaction\n",
      "_winxptheme         interpreterInfo     six                 win32ts\n",
      "_xxsubinterpreters  io                  smtpd               win32ui\n",
      "_zoneinfo           ipaddress           smtplib             win32uiole\n",
      "abc                 ipykernel           sndhdr              win32verstamp\n",
      "adodbapi            ipykernel_launcher  socket              win32wnet\n",
      "afxres              ipython_genutils    socketserver        winerror\n",
      "aifc                isapi               sqlite3             winioctlcon\n",
      "antigravity         itertools           sre_compile         winnt\n",
      "argparse            jedi                sre_constants       winperf\n",
      "array               json                sre_parse           winreg\n",
      "ast                 jupyter             ssl                 winsound\n",
      "asynchat            jupyter_client      sspi                winxpgui\n",
      "asyncio             jupyter_core        sspicon             winxptheme\n",
      "asyncore            keyword             stat                write_file\n",
      "atexit              large_files         statistics          wsgiref\n",
      "audioop             lib2to3             storemagic          xdrlib\n",
      "autoreload          linecache           str_demo            xml\n",
      "backcall            list_demo           str_format          xmlrpc\n",
      "base64              locale              str_num_format      xxsubtype\n",
      "basic_programs_part1_1 logging             string              zipapp\n",
      "basic_programs_part1_2 lzma                stringprep          zipfile\n",
      "basic_programs_part1_3 mailbox             struct              zipimport\n",
      "bdb                 mailcap             subprocess          zlib\n",
      "bigfile             marshal             sunau               zmq\n",
      "bigwriter           math                symbol              zoneinfo\n",
      "binascii            math_demo           symbolProvider      \n",
      "binhex              mimetypes           sympyprinting       \n",
      "bisect              mmap                symtable            \n",
      "\n",
      "Enter any module name to get more help.  Or, type \"modules spam\" to search\n",
      "for modules whose name or summary contain the string \"spam\".\n",
      "\n"
     ]
    }
   ],
   "source": [
    "help(\"modules\")"
   ]
  },
  {
   "cell_type": "code",
   "execution_count": 3,
   "metadata": {},
   "outputs": [],
   "source": [
    "import math"
   ]
  },
  {
   "cell_type": "code",
   "execution_count": 4,
   "metadata": {},
   "outputs": [
    {
     "output_type": "execute_result",
     "data": {
      "text/plain": [
       "3.141592653589793"
      ]
     },
     "metadata": {},
     "execution_count": 4
    }
   ],
   "source": [
    "math.pi"
   ]
  },
  {
   "cell_type": "code",
   "execution_count": 5,
   "metadata": {},
   "outputs": [
    {
     "output_type": "execute_result",
     "data": {
      "text/plain": [
       "2.718281828459045"
      ]
     },
     "metadata": {},
     "execution_count": 5
    }
   ],
   "source": [
    "math.e"
   ]
  },
  {
   "cell_type": "code",
   "execution_count": 6,
   "metadata": {},
   "outputs": [
    {
     "output_type": "execute_result",
     "data": {
      "text/plain": [
       "2"
      ]
     },
     "metadata": {},
     "execution_count": 6
    }
   ],
   "source": [
    "math.ceil(1.1)"
   ]
  },
  {
   "cell_type": "code",
   "execution_count": 7,
   "metadata": {},
   "outputs": [
    {
     "output_type": "execute_result",
     "data": {
      "text/plain": [
       "720"
      ]
     },
     "metadata": {},
     "execution_count": 7
    }
   ],
   "source": [
    "math.factorial(6)"
   ]
  },
  {
   "cell_type": "code",
   "execution_count": 8,
   "metadata": {},
   "outputs": [],
   "source": [
    "import os"
   ]
  },
  {
   "cell_type": "code",
   "execution_count": 9,
   "metadata": {},
   "outputs": [
    {
     "output_type": "execute_result",
     "data": {
      "text/plain": [
       "'d:\\\\Documents\\\\Estudos\\\\python\\\\Introduction_to_Programming_using_Python'"
      ]
     },
     "metadata": {},
     "execution_count": 9
    }
   ],
   "source": [
    "os.getcwd()"
   ]
  },
  {
   "cell_type": "code",
   "execution_count": 10,
   "metadata": {},
   "outputs": [
    {
     "output_type": "execute_result",
     "data": {
      "text/plain": [
       "environ{'ALLUSERSPROFILE': 'C:\\\\ProgramData',\n",
       "        'APPDATA': 'C:\\\\Users\\\\gusta\\\\AppData\\\\Roaming',\n",
       "        'APPLICATION_INSIGHTS_NO_DIAGNOSTIC_CHANNEL': 'true',\n",
       "        'CHROME_CRASHPAD_PIPE_NAME': '\\\\\\\\.\\\\pipe\\\\crashpad_63212_JICUBVRERUYDZAAI',\n",
       "        'COMMONPROGRAMFILES': 'C:\\\\Program Files\\\\Common Files',\n",
       "        'COMMONPROGRAMFILES(X86)': 'C:\\\\Program Files (x86)\\\\Common Files',\n",
       "        'COMMONPROGRAMW6432': 'C:\\\\Program Files\\\\Common Files',\n",
       "        'COMPUTERNAME': 'DESKTOP-0T0H4D6',\n",
       "        'COMSPEC': 'C:\\\\WINDOWS\\\\system32\\\\cmd.exe',\n",
       "        'DRIVERDATA': 'C:\\\\Windows\\\\System32\\\\Drivers\\\\DriverData',\n",
       "        'ELECTRON_RUN_AS_NODE': '1',\n",
       "        'HOMEDRIVE': 'C:',\n",
       "        'HOMEPATH': '\\\\Users\\\\gusta',\n",
       "        'LOCALAPPDATA': 'C:\\\\Users\\\\gusta\\\\AppData\\\\Local',\n",
       "        'LOGONSERVER': '\\\\\\\\DESKTOP-0T0H4D6',\n",
       "        'NUMBER_OF_PROCESSORS': '12',\n",
       "        'ONEDRIVE': 'C:\\\\Users\\\\gusta\\\\OneDrive',\n",
       "        'ONEDRIVECONSUMER': 'C:\\\\Users\\\\gusta\\\\OneDrive',\n",
       "        'ORIGINAL_XDG_CURRENT_DESKTOP': 'undefined',\n",
       "        'OS': 'Windows_NT',\n",
       "        'PATH': 'D:\\\\Documents\\\\Estudos\\\\python\\\\Introduction_to_Programming_using_Python\\\\.venv\\\\Scripts;C:\\\\Program Files (x86)\\\\Common Files\\\\Oracle\\\\Java\\\\javapath;C:\\\\Windows\\\\system32;C:\\\\Windows;C:\\\\Windows\\\\System32\\\\Wbem;C:\\\\Windows\\\\System32\\\\WindowsPowerShell\\\\v1.0\\\\;C:\\\\Windows\\\\System32\\\\OpenSSH\\\\;C:\\\\Program Files\\\\NVIDIA Corporation\\\\NVIDIA NvDLISR;C:\\\\Program Files\\\\Microsoft SQL Server\\\\Client SDK\\\\ODBC\\\\170\\\\Tools\\\\Binn\\\\;C:\\\\Program Files (x86)\\\\Microsoft SQL Server\\\\150\\\\Tools\\\\Binn\\\\;C:\\\\Program Files\\\\Microsoft SQL Server\\\\150\\\\Tools\\\\Binn\\\\;C:\\\\Program Files\\\\Microsoft SQL Server\\\\150\\\\DTS\\\\Binn\\\\;C:\\\\Program Files\\\\Git\\\\cmd;C:\\\\Users\\\\gusta\\\\AppData\\\\Local\\\\Programs\\\\Python\\\\Python39\\\\Scripts;C:\\\\Users\\\\gusta\\\\AppData\\\\Local\\\\Programs\\\\Python\\\\Python39\\\\;;C:\\\\WINDOWS\\\\system32;C:\\\\WINDOWS;C:\\\\WINDOWS\\\\System32\\\\Wbem;C:\\\\WINDOWS\\\\System32\\\\WindowsPowerShell\\\\v1.0\\\\;C:\\\\WINDOWS\\\\System32\\\\OpenSSH\\\\;C:\\\\Program Files\\\\dotnet\\\\;C:\\\\Users\\\\gusta\\\\AppData\\\\Local\\\\Programs\\\\Python\\\\Python39\\\\Scripts\\\\;C:\\\\Users\\\\gusta\\\\AppData\\\\Local\\\\Programs\\\\Python\\\\Python39\\\\;C:\\\\Users\\\\gusta\\\\AppData\\\\Local\\\\Microsoft\\\\WindowsApps;;C:\\\\Users\\\\gusta\\\\AppData\\\\Local\\\\Programs\\\\Microsoft VS Code\\\\bin;C:\\\\Program Files\\\\Inkscape\\\\bin;C:\\\\Users\\\\gusta\\\\.dotnet\\\\tools',\n",
       "        'PATHEXT': '.COM;.EXE;.BAT;.CMD;.VBS;.VBE;.JS;.JSE;.WSF;.WSH;.MSC',\n",
       "        'PROCESSOR_ARCHITECTURE': 'AMD64',\n",
       "        'PROCESSOR_IDENTIFIER': 'Intel64 Family 6 Model 158 Stepping 10, GenuineIntel',\n",
       "        'PROCESSOR_LEVEL': '6',\n",
       "        'PROCESSOR_REVISION': '9e0a',\n",
       "        'PROGRAMDATA': 'C:\\\\ProgramData',\n",
       "        'PROGRAMFILES': 'C:\\\\Program Files',\n",
       "        'PROGRAMFILES(X86)': 'C:\\\\Program Files (x86)',\n",
       "        'PROGRAMW6432': 'C:\\\\Program Files',\n",
       "        'PROMPT': '(.venv) $P$G',\n",
       "        'PSMODULEPATH': 'C:\\\\Program Files\\\\WindowsPowerShell\\\\Modules;C:\\\\WINDOWS\\\\system32\\\\WindowsPowerShell\\\\v1.0\\\\Modules;C:\\\\Program Files (x86)\\\\Microsoft SQL Server\\\\150\\\\Tools\\\\PowerShell\\\\Modules\\\\',\n",
       "        'PUBLIC': 'C:\\\\Users\\\\Public',\n",
       "        'PYTHONIOENCODING': 'utf-8',\n",
       "        'PYTHONPATH': 'c:\\\\Users\\\\gusta\\\\.vscode\\\\extensions\\\\ms-toolsai.jupyter-2021.6.832593372\\\\pythonFiles;c:\\\\Users\\\\gusta\\\\.vscode\\\\extensions\\\\ms-toolsai.jupyter-2021.6.832593372\\\\pythonFiles\\\\lib\\\\python',\n",
       "        'PYTHONUNBUFFERED': '1',\n",
       "        'SESSIONNAME': 'Console',\n",
       "        'SYSTEMDRIVE': 'C:',\n",
       "        'SYSTEMROOT': 'C:\\\\WINDOWS',\n",
       "        'TEMP': 'C:\\\\Users\\\\gusta\\\\AppData\\\\Local\\\\Temp',\n",
       "        'TMP': 'C:\\\\Users\\\\gusta\\\\AppData\\\\Local\\\\Temp',\n",
       "        'USERDOMAIN': 'DESKTOP-0T0H4D6',\n",
       "        'USERDOMAIN_ROAMINGPROFILE': 'DESKTOP-0T0H4D6',\n",
       "        'USERNAME': 'gusta',\n",
       "        'USERPROFILE': 'C:\\\\Users\\\\gusta',\n",
       "        'VIRTUAL_ENV': 'D:\\\\Documents\\\\Estudos\\\\python\\\\Introduction_to_Programming_using_Python\\\\.venv',\n",
       "        'VSCODE_AMD_ENTRYPOINT': 'vs/workbench/services/extensions/node/extensionHostProcess',\n",
       "        'VSCODE_CWD': 'C:\\\\Users\\\\gusta\\\\AppData\\\\Local\\\\Programs\\\\Microsoft VS Code',\n",
       "        'VSCODE_HANDLES_UNCAUGHT_ERRORS': 'true',\n",
       "        'VSCODE_IPC_HOOK': '\\\\\\\\.\\\\pipe\\\\4338c7350472a8365bebffd335979480-1.56.2-main-sock',\n",
       "        'VSCODE_IPC_HOOK_EXTHOST': '\\\\\\\\.\\\\pipe\\\\vscode-ipc-e1c7e51e-3eec-49c8-b662-76a7b0ea95aa-sock',\n",
       "        'VSCODE_LOG_NATIVE': 'false',\n",
       "        'VSCODE_LOG_STACK': 'false',\n",
       "        'VSCODE_NLS_CONFIG': '{\"locale\":\"pt-br\",\"availableLanguages\":{},\"_languagePackSupport\":true}',\n",
       "        'VSCODE_NODE_CACHED_DATA_DIR': 'C:\\\\Users\\\\gusta\\\\AppData\\\\Roaming\\\\Code\\\\CachedData\\\\054a9295330880ed74ceaedda236253b4f39a335',\n",
       "        'VSCODE_PID': '63212',\n",
       "        'VSCODE_PIPE_LOGGING': 'true',\n",
       "        'VSCODE_VERBOSE_LOGGING': 'true',\n",
       "        'WINDIR': 'C:\\\\WINDOWS',\n",
       "        '_OLD_VIRTUAL_PATH': 'C:\\\\Program Files (x86)\\\\Common Files\\\\Oracle\\\\Java\\\\javapath;C:\\\\Windows\\\\system32;C:\\\\Windows;C:\\\\Windows\\\\System32\\\\Wbem;C:\\\\Windows\\\\System32\\\\WindowsPowerShell\\\\v1.0\\\\;C:\\\\Windows\\\\System32\\\\OpenSSH\\\\;C:\\\\Program Files\\\\NVIDIA Corporation\\\\NVIDIA NvDLISR;C:\\\\Program Files\\\\Microsoft SQL Server\\\\Client SDK\\\\ODBC\\\\170\\\\Tools\\\\Binn\\\\;C:\\\\Program Files (x86)\\\\Microsoft SQL Server\\\\150\\\\Tools\\\\Binn\\\\;C:\\\\Program Files\\\\Microsoft SQL Server\\\\150\\\\Tools\\\\Binn\\\\;C:\\\\Program Files\\\\Microsoft SQL Server\\\\150\\\\DTS\\\\Binn\\\\;C:\\\\Program Files\\\\Git\\\\cmd;C:\\\\Users\\\\gusta\\\\AppData\\\\Local\\\\Programs\\\\Python\\\\Python39\\\\Scripts;C:\\\\Users\\\\gusta\\\\AppData\\\\Local\\\\Programs\\\\Python\\\\Python39\\\\;;C:\\\\WINDOWS\\\\system32;C:\\\\WINDOWS;C:\\\\WINDOWS\\\\System32\\\\Wbem;C:\\\\WINDOWS\\\\System32\\\\WindowsPowerShell\\\\v1.0\\\\;C:\\\\WINDOWS\\\\System32\\\\OpenSSH\\\\;C:\\\\Program Files\\\\dotnet\\\\;C:\\\\Users\\\\gusta\\\\AppData\\\\Local\\\\Programs\\\\Python\\\\Python39\\\\Scripts\\\\;C:\\\\Users\\\\gusta\\\\AppData\\\\Local\\\\Programs\\\\Python\\\\Python39\\\\;C:\\\\Users\\\\gusta\\\\AppData\\\\Local\\\\Microsoft\\\\WindowsApps;;C:\\\\Users\\\\gusta\\\\AppData\\\\Local\\\\Programs\\\\Microsoft VS Code\\\\bin;C:\\\\Program Files\\\\Inkscape\\\\bin;C:\\\\Users\\\\gusta\\\\.dotnet\\\\tools',\n",
       "        '_OLD_VIRTUAL_PROMPT': '$P$G',\n",
       "        'JPY_INTERRUPT_EVENT': '344',\n",
       "        'IPY_INTERRUPT_EVENT': '344',\n",
       "        'JPY_PARENT_PID': '348',\n",
       "        'TERM': 'xterm-color',\n",
       "        'CLICOLOR': '1',\n",
       "        'PAGER': 'cat',\n",
       "        'GIT_PAGER': 'cat',\n",
       "        'MPLBACKEND': 'module://ipykernel.pylab.backend_inline'}"
      ]
     },
     "metadata": {},
     "execution_count": 10
    }
   ],
   "source": [
    "os.environ"
   ]
  },
  {
   "cell_type": "code",
   "execution_count": 13,
   "metadata": {},
   "outputs": [
    {
     "output_type": "stream",
     "name": "stdout",
     "text": [
      "User:  gusta\n"
     ]
    }
   ],
   "source": [
    "user = os.environ[\"USERNAME\"]\n",
    "print(\"User: \", user)"
   ]
  },
  {
   "cell_type": "code",
   "execution_count": 14,
   "metadata": {},
   "outputs": [
    {
     "output_type": "stream",
     "name": "stdout",
     "text": [
      "Path:  D:\\Documents\\Estudos\\python\\Introduction_to_Programming_using_Python\\.venv\\Scripts;C:\\Program Files (x86)\\Common Files\\Oracle\\Java\\javapath;C:\\Windows\\system32;C:\\Windows;C:\\Windows\\System32\\Wbem;C:\\Windows\\System32\\WindowsPowerShell\\v1.0\\;C:\\Windows\\System32\\OpenSSH\\;C:\\Program Files\\NVIDIA Corporation\\NVIDIA NvDLISR;C:\\Program Files\\Microsoft SQL Server\\Client SDK\\ODBC\\170\\Tools\\Binn\\;C:\\Program Files (x86)\\Microsoft SQL Server\\150\\Tools\\Binn\\;C:\\Program Files\\Microsoft SQL Server\\150\\Tools\\Binn\\;C:\\Program Files\\Microsoft SQL Server\\150\\DTS\\Binn\\;C:\\Program Files\\Git\\cmd;C:\\Users\\gusta\\AppData\\Local\\Programs\\Python\\Python39\\Scripts;C:\\Users\\gusta\\AppData\\Local\\Programs\\Python\\Python39\\;;C:\\WINDOWS\\system32;C:\\WINDOWS;C:\\WINDOWS\\System32\\Wbem;C:\\WINDOWS\\System32\\WindowsPowerShell\\v1.0\\;C:\\WINDOWS\\System32\\OpenSSH\\;C:\\Program Files\\dotnet\\;C:\\Users\\gusta\\AppData\\Local\\Programs\\Python\\Python39\\Scripts\\;C:\\Users\\gusta\\AppData\\Local\\Programs\\Python\\Python39\\;C:\\Users\\gusta\\AppData\\Local\\Microsoft\\WindowsApps;;C:\\Users\\gusta\\AppData\\Local\\Programs\\Microsoft VS Code\\bin;C:\\Program Files\\Inkscape\\bin;C:\\Users\\gusta\\.dotnet\\tools\n"
     ]
    }
   ],
   "source": [
    "path = os.environ[\"PATH\"]\n",
    "print(\"Path: \", path)"
   ]
  },
  {
   "cell_type": "code",
   "execution_count": 15,
   "metadata": {},
   "outputs": [
    {
     "output_type": "execute_result",
     "data": {
      "text/plain": [
       "['.git',\n",
       " '.gitignore',\n",
       " '.venv',\n",
       " '.vscode',\n",
       " 'ArgumentPassingByReference.ipynb',\n",
       " 'ArgumentPassingByValue.ipynb',\n",
       " 'basic_programs_part1.ipynb',\n",
       " 'basic_programs_part1_1.py',\n",
       " 'basic_programs_part1_2.py',\n",
       " 'basic_programs_part1_3.py',\n",
       " 'bigfile.py',\n",
       " 'bigfile.txt',\n",
       " 'bigwriter.py',\n",
       " 'bool_demo.py',\n",
       " 'builtin_modules_01.py',\n",
       " 'bytearray_demo.py',\n",
       " 'bytes_demo.py',\n",
       " 'circle_demo.py',\n",
       " 'cla.py',\n",
       " 'comprehensions.ipynb',\n",
       " 'dict_demo.py',\n",
       " 'float_demo.py',\n",
       " 'guess.py',\n",
       " 'helo_world.py',\n",
       " 'if_else_elif_statements.ipynb',\n",
       " 'ImportingModules.ipynb',\n",
       " 'import_demo.py',\n",
       " 'introducing_dictionaries.ipynb',\n",
       " 'introducing_sets.ipynb',\n",
       " 'introducing_tuples.ipynb',\n",
       " 'introdution_lists.ipynb',\n",
       " 'invoking_functions_on_dictionaries.ipynb',\n",
       " 'large_files.py',\n",
       " 'list_demo.py',\n",
       " 'LocalAndGlobalVariables.ipynb',\n",
       " 'log.txt',\n",
       " 'math_demo.py',\n",
       " 'name_reverser.py',\n",
       " 'pep20.txt',\n",
       " 'performing_list_conversions.ipynb',\n",
       " 'performing_set_operations.ipynb',\n",
       " 'perform_simple_list_operations.ipynb',\n",
       " 'perform_slicing_operations_on_lists.ipynb',\n",
       " 'perform_slicing_operations_on_strings.ipynb',\n",
       " 'perform_useful_list_operations.ipynb',\n",
       " 'python_conditions.ipynb',\n",
       " 'range_demo.py',\n",
       " 'readbin.py',\n",
       " 'README.md',\n",
       " 'read_text.py',\n",
       " 'ReturnValues.ipynb',\n",
       " 'set_demo.py',\n",
       " 'spacex.jpg',\n",
       " 'spacex2.jpg',\n",
       " 'str_demo.py',\n",
       " 'str_format.py',\n",
       " 'str_num_format.py',\n",
       " 'testdir',\n",
       " 'Topic_7_Example_Code_20210429',\n",
       " 'Topic_8_Example_Code-20210523',\n",
       " 'Topic_9_Example_Code-20210531',\n",
       " 'tuple_demo.py',\n",
       " 'type_conversions_and_base_conversions.ipynb',\n",
       " 'using_builtin_functions_with_lists.ipynb',\n",
       " 'using_datetime.py',\n",
       " 'using_io.py',\n",
       " 'using_os.py',\n",
       " 'using_ospath.py',\n",
       " 'using_random.py',\n",
       " 'using_step_size_in_slicing_operations.ipynb',\n",
       " 'using_sys.py',\n",
       " 'VariableLengthArguments.ipynb',\n",
       " 'without.txt',\n",
       " 'working_with_nested_lists.ipynb',\n",
       " 'working_with_strings_as_a_list_of_characters.ipynb',\n",
       " 'write_file.py',\n",
       " 'written.txt']"
      ]
     },
     "metadata": {},
     "execution_count": 15
    }
   ],
   "source": [
    "os.listdir()"
   ]
  },
  {
   "cell_type": "code",
   "execution_count": 16,
   "metadata": {},
   "outputs": [],
   "source": [
    "os.mkdir(\"./my_temp_dir\")"
   ]
  },
  {
   "cell_type": "code",
   "execution_count": 18,
   "metadata": {},
   "outputs": [
    {
     "output_type": "execute_result",
     "data": {
      "text/plain": [
       "['.git',\n",
       " '.gitignore',\n",
       " '.venv',\n",
       " '.vscode',\n",
       " 'ArgumentPassingByReference.ipynb',\n",
       " 'ArgumentPassingByValue.ipynb',\n",
       " 'basic_programs_part1.ipynb',\n",
       " 'basic_programs_part1_1.py',\n",
       " 'basic_programs_part1_2.py',\n",
       " 'basic_programs_part1_3.py',\n",
       " 'bigfile.py',\n",
       " 'bigfile.txt',\n",
       " 'bigwriter.py',\n",
       " 'bool_demo.py',\n",
       " 'builtin_modules_01.py',\n",
       " 'bytearray_demo.py',\n",
       " 'bytes_demo.py',\n",
       " 'circle_demo.py',\n",
       " 'cla.py',\n",
       " 'comprehensions.ipynb',\n",
       " 'dict_demo.py',\n",
       " 'float_demo.py',\n",
       " 'guess.py',\n",
       " 'helo_world.py',\n",
       " 'if_else_elif_statements.ipynb',\n",
       " 'ImportingModules.ipynb',\n",
       " 'import_demo.py',\n",
       " 'introducing_dictionaries.ipynb',\n",
       " 'introducing_sets.ipynb',\n",
       " 'introducing_tuples.ipynb',\n",
       " 'introdution_lists.ipynb',\n",
       " 'invoking_functions_on_dictionaries.ipynb',\n",
       " 'large_files.py',\n",
       " 'list_demo.py',\n",
       " 'LocalAndGlobalVariables.ipynb',\n",
       " 'log.txt',\n",
       " 'math_demo.py',\n",
       " 'my_temp_dir',\n",
       " 'name_reverser.py',\n",
       " 'pep20.txt',\n",
       " 'performing_list_conversions.ipynb',\n",
       " 'performing_set_operations.ipynb',\n",
       " 'perform_simple_list_operations.ipynb',\n",
       " 'perform_slicing_operations_on_lists.ipynb',\n",
       " 'perform_slicing_operations_on_strings.ipynb',\n",
       " 'perform_useful_list_operations.ipynb',\n",
       " 'python_conditions.ipynb',\n",
       " 'range_demo.py',\n",
       " 'readbin.py',\n",
       " 'README.md',\n",
       " 'read_text.py',\n",
       " 'ReturnValues.ipynb',\n",
       " 'set_demo.py',\n",
       " 'spacex.jpg',\n",
       " 'spacex2.jpg',\n",
       " 'str_demo.py',\n",
       " 'str_format.py',\n",
       " 'str_num_format.py',\n",
       " 'testdir',\n",
       " 'Topic_7_Example_Code_20210429',\n",
       " 'Topic_8_Example_Code-20210523',\n",
       " 'Topic_9_Example_Code-20210531',\n",
       " 'tuple_demo.py',\n",
       " 'type_conversions_and_base_conversions.ipynb',\n",
       " 'using_builtin_functions_with_lists.ipynb',\n",
       " 'using_datetime.py',\n",
       " 'using_io.py',\n",
       " 'using_os.py',\n",
       " 'using_ospath.py',\n",
       " 'using_random.py',\n",
       " 'using_step_size_in_slicing_operations.ipynb',\n",
       " 'using_sys.py',\n",
       " 'VariableLengthArguments.ipynb',\n",
       " 'without.txt',\n",
       " 'working_with_nested_lists.ipynb',\n",
       " 'working_with_strings_as_a_list_of_characters.ipynb',\n",
       " 'write_file.py',\n",
       " 'written.txt']"
      ]
     },
     "metadata": {},
     "execution_count": 18
    }
   ],
   "source": [
    "os.listdir(\".\")"
   ]
  },
  {
   "cell_type": "code",
   "execution_count": 20,
   "metadata": {},
   "outputs": [],
   "source": [
    "os.rename(\"my_temp_dir\", \"my_new_dir\")"
   ]
  },
  {
   "cell_type": "code",
   "execution_count": 21,
   "metadata": {},
   "outputs": [
    {
     "output_type": "execute_result",
     "data": {
      "text/plain": [
       "['.git',\n",
       " '.gitignore',\n",
       " '.venv',\n",
       " '.vscode',\n",
       " 'ArgumentPassingByReference.ipynb',\n",
       " 'ArgumentPassingByValue.ipynb',\n",
       " 'basic_programs_part1.ipynb',\n",
       " 'basic_programs_part1_1.py',\n",
       " 'basic_programs_part1_2.py',\n",
       " 'basic_programs_part1_3.py',\n",
       " 'bigfile.py',\n",
       " 'bigfile.txt',\n",
       " 'bigwriter.py',\n",
       " 'bool_demo.py',\n",
       " 'builtin_modules_01.py',\n",
       " 'bytearray_demo.py',\n",
       " 'bytes_demo.py',\n",
       " 'circle_demo.py',\n",
       " 'cla.py',\n",
       " 'comprehensions.ipynb',\n",
       " 'dict_demo.py',\n",
       " 'float_demo.py',\n",
       " 'guess.py',\n",
       " 'helo_world.py',\n",
       " 'if_else_elif_statements.ipynb',\n",
       " 'ImportingModules.ipynb',\n",
       " 'import_demo.py',\n",
       " 'introducing_dictionaries.ipynb',\n",
       " 'introducing_sets.ipynb',\n",
       " 'introducing_tuples.ipynb',\n",
       " 'introdution_lists.ipynb',\n",
       " 'invoking_functions_on_dictionaries.ipynb',\n",
       " 'large_files.py',\n",
       " 'list_demo.py',\n",
       " 'LocalAndGlobalVariables.ipynb',\n",
       " 'log.txt',\n",
       " 'math_demo.py',\n",
       " 'my_new_dir',\n",
       " 'name_reverser.py',\n",
       " 'pep20.txt',\n",
       " 'performing_list_conversions.ipynb',\n",
       " 'performing_set_operations.ipynb',\n",
       " 'perform_simple_list_operations.ipynb',\n",
       " 'perform_slicing_operations_on_lists.ipynb',\n",
       " 'perform_slicing_operations_on_strings.ipynb',\n",
       " 'perform_useful_list_operations.ipynb',\n",
       " 'python_conditions.ipynb',\n",
       " 'range_demo.py',\n",
       " 'readbin.py',\n",
       " 'README.md',\n",
       " 'read_text.py',\n",
       " 'ReturnValues.ipynb',\n",
       " 'set_demo.py',\n",
       " 'spacex.jpg',\n",
       " 'spacex2.jpg',\n",
       " 'str_demo.py',\n",
       " 'str_format.py',\n",
       " 'str_num_format.py',\n",
       " 'testdir',\n",
       " 'Topic_7_Example_Code_20210429',\n",
       " 'Topic_8_Example_Code-20210523',\n",
       " 'Topic_9_Example_Code-20210531',\n",
       " 'tuple_demo.py',\n",
       " 'type_conversions_and_base_conversions.ipynb',\n",
       " 'using_builtin_functions_with_lists.ipynb',\n",
       " 'using_datetime.py',\n",
       " 'using_io.py',\n",
       " 'using_os.py',\n",
       " 'using_ospath.py',\n",
       " 'using_random.py',\n",
       " 'using_step_size_in_slicing_operations.ipynb',\n",
       " 'using_sys.py',\n",
       " 'VariableLengthArguments.ipynb',\n",
       " 'without.txt',\n",
       " 'working_with_nested_lists.ipynb',\n",
       " 'working_with_strings_as_a_list_of_characters.ipynb',\n",
       " 'write_file.py',\n",
       " 'written.txt']"
      ]
     },
     "metadata": {},
     "execution_count": 21
    }
   ],
   "source": [
    "os.listdir(\".\")"
   ]
  },
  {
   "cell_type": "code",
   "execution_count": 22,
   "metadata": {},
   "outputs": [],
   "source": [
    "os.rmdir(\"my_new_dir\")"
   ]
  },
  {
   "cell_type": "code",
   "execution_count": 23,
   "metadata": {},
   "outputs": [
    {
     "output_type": "execute_result",
     "data": {
      "text/plain": [
       "['.git',\n",
       " '.gitignore',\n",
       " '.venv',\n",
       " '.vscode',\n",
       " 'ArgumentPassingByReference.ipynb',\n",
       " 'ArgumentPassingByValue.ipynb',\n",
       " 'basic_programs_part1.ipynb',\n",
       " 'basic_programs_part1_1.py',\n",
       " 'basic_programs_part1_2.py',\n",
       " 'basic_programs_part1_3.py',\n",
       " 'bigfile.py',\n",
       " 'bigfile.txt',\n",
       " 'bigwriter.py',\n",
       " 'bool_demo.py',\n",
       " 'builtin_modules_01.py',\n",
       " 'bytearray_demo.py',\n",
       " 'bytes_demo.py',\n",
       " 'circle_demo.py',\n",
       " 'cla.py',\n",
       " 'comprehensions.ipynb',\n",
       " 'dict_demo.py',\n",
       " 'float_demo.py',\n",
       " 'guess.py',\n",
       " 'helo_world.py',\n",
       " 'if_else_elif_statements.ipynb',\n",
       " 'ImportingModules.ipynb',\n",
       " 'import_demo.py',\n",
       " 'introducing_dictionaries.ipynb',\n",
       " 'introducing_sets.ipynb',\n",
       " 'introducing_tuples.ipynb',\n",
       " 'introdution_lists.ipynb',\n",
       " 'invoking_functions_on_dictionaries.ipynb',\n",
       " 'large_files.py',\n",
       " 'list_demo.py',\n",
       " 'LocalAndGlobalVariables.ipynb',\n",
       " 'log.txt',\n",
       " 'math_demo.py',\n",
       " 'name_reverser.py',\n",
       " 'pep20.txt',\n",
       " 'performing_list_conversions.ipynb',\n",
       " 'performing_set_operations.ipynb',\n",
       " 'perform_simple_list_operations.ipynb',\n",
       " 'perform_slicing_operations_on_lists.ipynb',\n",
       " 'perform_slicing_operations_on_strings.ipynb',\n",
       " 'perform_useful_list_operations.ipynb',\n",
       " 'python_conditions.ipynb',\n",
       " 'range_demo.py',\n",
       " 'readbin.py',\n",
       " 'README.md',\n",
       " 'read_text.py',\n",
       " 'ReturnValues.ipynb',\n",
       " 'set_demo.py',\n",
       " 'spacex.jpg',\n",
       " 'spacex2.jpg',\n",
       " 'str_demo.py',\n",
       " 'str_format.py',\n",
       " 'str_num_format.py',\n",
       " 'testdir',\n",
       " 'Topic_7_Example_Code_20210429',\n",
       " 'Topic_8_Example_Code-20210523',\n",
       " 'Topic_9_Example_Code-20210531',\n",
       " 'tuple_demo.py',\n",
       " 'type_conversions_and_base_conversions.ipynb',\n",
       " 'using_builtin_functions_with_lists.ipynb',\n",
       " 'using_datetime.py',\n",
       " 'using_io.py',\n",
       " 'using_os.py',\n",
       " 'using_ospath.py',\n",
       " 'using_random.py',\n",
       " 'using_step_size_in_slicing_operations.ipynb',\n",
       " 'using_sys.py',\n",
       " 'VariableLengthArguments.ipynb',\n",
       " 'without.txt',\n",
       " 'working_with_nested_lists.ipynb',\n",
       " 'working_with_strings_as_a_list_of_characters.ipynb',\n",
       " 'write_file.py',\n",
       " 'written.txt']"
      ]
     },
     "metadata": {},
     "execution_count": 23
    }
   ],
   "source": [
    "os.listdir(\".\")"
   ]
  },
  {
   "cell_type": "code",
   "execution_count": 24,
   "metadata": {},
   "outputs": [],
   "source": [
    "os.mkdir(\"my_temp_dir\")"
   ]
  },
  {
   "cell_type": "code",
   "execution_count": 25,
   "metadata": {},
   "outputs": [
    {
     "output_type": "execute_result",
     "data": {
      "text/plain": [
       "['.git',\n",
       " '.gitignore',\n",
       " '.venv',\n",
       " '.vscode',\n",
       " 'ArgumentPassingByReference.ipynb',\n",
       " 'ArgumentPassingByValue.ipynb',\n",
       " 'basic_programs_part1.ipynb',\n",
       " 'basic_programs_part1_1.py',\n",
       " 'basic_programs_part1_2.py',\n",
       " 'basic_programs_part1_3.py',\n",
       " 'bigfile.py',\n",
       " 'bigfile.txt',\n",
       " 'bigwriter.py',\n",
       " 'bool_demo.py',\n",
       " 'builtin_modules_01.py',\n",
       " 'bytearray_demo.py',\n",
       " 'bytes_demo.py',\n",
       " 'circle_demo.py',\n",
       " 'cla.py',\n",
       " 'comprehensions.ipynb',\n",
       " 'dict_demo.py',\n",
       " 'float_demo.py',\n",
       " 'guess.py',\n",
       " 'helo_world.py',\n",
       " 'if_else_elif_statements.ipynb',\n",
       " 'ImportingModules.ipynb',\n",
       " 'import_demo.py',\n",
       " 'introducing_dictionaries.ipynb',\n",
       " 'introducing_sets.ipynb',\n",
       " 'introducing_tuples.ipynb',\n",
       " 'introdution_lists.ipynb',\n",
       " 'invoking_functions_on_dictionaries.ipynb',\n",
       " 'large_files.py',\n",
       " 'list_demo.py',\n",
       " 'LocalAndGlobalVariables.ipynb',\n",
       " 'log.txt',\n",
       " 'math_demo.py',\n",
       " 'my_temp_dir',\n",
       " 'name_reverser.py',\n",
       " 'pep20.txt',\n",
       " 'performing_list_conversions.ipynb',\n",
       " 'performing_set_operations.ipynb',\n",
       " 'perform_simple_list_operations.ipynb',\n",
       " 'perform_slicing_operations_on_lists.ipynb',\n",
       " 'perform_slicing_operations_on_strings.ipynb',\n",
       " 'perform_useful_list_operations.ipynb',\n",
       " 'python_conditions.ipynb',\n",
       " 'range_demo.py',\n",
       " 'readbin.py',\n",
       " 'README.md',\n",
       " 'read_text.py',\n",
       " 'ReturnValues.ipynb',\n",
       " 'set_demo.py',\n",
       " 'spacex.jpg',\n",
       " 'spacex2.jpg',\n",
       " 'str_demo.py',\n",
       " 'str_format.py',\n",
       " 'str_num_format.py',\n",
       " 'testdir',\n",
       " 'Topic_7_Example_Code_20210429',\n",
       " 'Topic_8_Example_Code-20210523',\n",
       " 'Topic_9_Example_Code-20210531',\n",
       " 'tuple_demo.py',\n",
       " 'type_conversions_and_base_conversions.ipynb',\n",
       " 'using_builtin_functions_with_lists.ipynb',\n",
       " 'using_datetime.py',\n",
       " 'using_io.py',\n",
       " 'using_os.py',\n",
       " 'using_ospath.py',\n",
       " 'using_random.py',\n",
       " 'using_step_size_in_slicing_operations.ipynb',\n",
       " 'using_sys.py',\n",
       " 'VariableLengthArguments.ipynb',\n",
       " 'without.txt',\n",
       " 'working_with_nested_lists.ipynb',\n",
       " 'working_with_strings_as_a_list_of_characters.ipynb',\n",
       " 'write_file.py',\n",
       " 'written.txt']"
      ]
     },
     "metadata": {},
     "execution_count": 25
    }
   ],
   "source": [
    "os.listdir(\".\")"
   ]
  },
  {
   "cell_type": "code",
   "execution_count": 26,
   "metadata": {},
   "outputs": [
    {
     "output_type": "execute_result",
     "data": {
      "text/plain": [
       "'d:\\\\Documents\\\\Estudos\\\\python\\\\Introduction_to_Programming_using_Python'"
      ]
     },
     "metadata": {},
     "execution_count": 26
    }
   ],
   "source": [
    "cwd = os.getcwd()\n",
    "cwd"
   ]
  },
  {
   "cell_type": "code",
   "execution_count": 27,
   "metadata": {},
   "outputs": [
    {
     "output_type": "execute_result",
     "data": {
      "text/plain": [
       "True"
      ]
     },
     "metadata": {},
     "execution_count": 27
    }
   ],
   "source": [
    "os.path.isdir(cwd)"
   ]
  },
  {
   "cell_type": "code",
   "execution_count": 28,
   "metadata": {},
   "outputs": [
    {
     "output_type": "execute_result",
     "data": {
      "text/plain": [
       "False"
      ]
     },
     "metadata": {},
     "execution_count": 28
    }
   ],
   "source": [
    "os.path.isfile(cwd)"
   ]
  },
  {
   "cell_type": "code",
   "execution_count": 29,
   "metadata": {},
   "outputs": [],
   "source": [
    "from os import path"
   ]
  },
  {
   "cell_type": "code",
   "execution_count": 30,
   "metadata": {},
   "outputs": [
    {
     "output_type": "execute_result",
     "data": {
      "text/plain": [
       "True"
      ]
     },
     "metadata": {},
     "execution_count": 30
    }
   ],
   "source": [
    "path.isdir(cwd)"
   ]
  },
  {
   "cell_type": "code",
   "execution_count": 31,
   "metadata": {},
   "outputs": [
    {
     "output_type": "execute_result",
     "data": {
      "text/plain": [
       "False"
      ]
     },
     "metadata": {},
     "execution_count": 31
    }
   ],
   "source": [
    "path.isfile(cwd)"
   ]
  },
  {
   "cell_type": "code",
   "execution_count": 32,
   "metadata": {},
   "outputs": [
    {
     "output_type": "execute_result",
     "data": {
      "text/plain": [
       "True"
      ]
     },
     "metadata": {},
     "execution_count": 32
    }
   ],
   "source": [
    "path.exists(\"my_temp_dir\")"
   ]
  },
  {
   "cell_type": "code",
   "execution_count": 33,
   "metadata": {},
   "outputs": [],
   "source": [
    "import random"
   ]
  },
  {
   "cell_type": "code",
   "execution_count": 35,
   "metadata": {},
   "outputs": [
    {
     "output_type": "execute_result",
     "data": {
      "text/plain": [
       "0.5837587264282447"
      ]
     },
     "metadata": {},
     "execution_count": 35
    }
   ],
   "source": [
    "random.random()"
   ]
  },
  {
   "cell_type": "code",
   "execution_count": 41,
   "metadata": {},
   "outputs": [
    {
     "output_type": "execute_result",
     "data": {
      "text/plain": [
       "10"
      ]
     },
     "metadata": {},
     "execution_count": 41
    }
   ],
   "source": [
    "random.randint(0, 10)"
   ]
  },
  {
   "cell_type": "code",
   "execution_count": 42,
   "metadata": {},
   "outputs": [],
   "source": [
    "my_list = [\"John\", \"Roy\", True, 34, \"Rose\", 12.9]"
   ]
  },
  {
   "cell_type": "code",
   "execution_count": 61,
   "metadata": {},
   "outputs": [
    {
     "output_type": "execute_result",
     "data": {
      "text/plain": [
       "'Rose'"
      ]
     },
     "metadata": {},
     "execution_count": 61
    }
   ],
   "source": [
    "random.choice(my_list)"
   ]
  },
  {
   "cell_type": "code",
   "execution_count": 62,
   "metadata": {},
   "outputs": [],
   "source": [
    "import datetime"
   ]
  },
  {
   "cell_type": "code",
   "execution_count": 63,
   "metadata": {},
   "outputs": [
    {
     "output_type": "execute_result",
     "data": {
      "text/plain": [
       "datetime.date(2021, 6, 2)"
      ]
     },
     "metadata": {},
     "execution_count": 63
    }
   ],
   "source": [
    "datetime.date.today()"
   ]
  },
  {
   "cell_type": "code",
   "execution_count": 65,
   "metadata": {},
   "outputs": [
    {
     "output_type": "execute_result",
     "data": {
      "text/plain": [
       "datetime.datetime(2021, 6, 2, 9, 27, 41, 966363)"
      ]
     },
     "metadata": {},
     "execution_count": 65
    }
   ],
   "source": [
    "datetime.datetime.now()"
   ]
  },
  {
   "cell_type": "code",
   "execution_count": null,
   "metadata": {},
   "outputs": [],
   "source": []
  }
 ]
}