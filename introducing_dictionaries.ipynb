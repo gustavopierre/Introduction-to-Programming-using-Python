{
 "metadata": {
  "language_info": {
   "codemirror_mode": {
    "name": "ipython",
    "version": 3
   },
   "file_extension": ".py",
   "mimetype": "text/x-python",
   "name": "python",
   "nbconvert_exporter": "python",
   "pygments_lexer": "ipython3",
   "version": "3.9.2"
  },
  "orig_nbformat": 2,
  "kernelspec": {
   "name": "pythonjvsc74a57bd034485712827e820f546f4f1c931a62b71ccff1ebd0099144232c128b6294c001",
   "display_name": "Python 3.9.2  ('.venv': venv)"
  },
  "metadata": {
   "interpreter": {
    "hash": "34485712827e820f546f4f1c931a62b71ccff1ebd0099144232c128b6294c001"
   }
  }
 },
 "nbformat": 4,
 "nbformat_minor": 2,
 "cells": [
  {
   "cell_type": "code",
   "execution_count": 1,
   "metadata": {},
   "outputs": [
    {
     "output_type": "execute_result",
     "data": {
      "text/plain": [
       "{}"
      ]
     },
     "metadata": {},
     "execution_count": 1
    }
   ],
   "source": [
    "empty_dict = {}\n",
    "empty_dict"
   ]
  },
  {
   "cell_type": "code",
   "execution_count": 3,
   "metadata": {},
   "outputs": [
    {
     "output_type": "execute_result",
     "data": {
      "text/plain": [
       "{'James': 'Ducati Monster 1200',\n",
       " 'Jacob': 'Ducati Scrambler 1100',\n",
       " 'William': 'BMW S 10000 RR',\n",
       " 'Aiden': 'Harley Devidson'}"
      ]
     },
     "metadata": {},
     "execution_count": 3
    }
   ],
   "source": [
    "bike_owners = {\"James\": \"Ducati Monster 1200\",\n",
    "               \"Jacob\": \"Ducati Scrambler 1100\",\n",
    "               \"William\": \"BMW S 10000 RR\",\n",
    "               \"Aiden\": \"Harley Devidson\"}\n",
    "bike_owners        "
   ]
  },
  {
   "cell_type": "code",
   "execution_count": 4,
   "metadata": {},
   "outputs": [
    {
     "output_type": "execute_result",
     "data": {
      "text/plain": [
       "'Ducati Monster 1200'"
      ]
     },
     "metadata": {},
     "execution_count": 4
    }
   ],
   "source": [
    "bike_owners[\"James\"]"
   ]
  },
  {
   "cell_type": "code",
   "execution_count": 5,
   "metadata": {},
   "outputs": [
    {
     "output_type": "execute_result",
     "data": {
      "text/plain": [
       "{1: 45, 2: 55, 3: 65}"
      ]
     },
     "metadata": {},
     "execution_count": 5
    }
   ],
   "source": [
    "int_dict = {1: 45, 2: 55, 3: 65}\n",
    "int_dict"
   ]
  },
  {
   "cell_type": "code",
   "execution_count": 6,
   "metadata": {},
   "outputs": [
    {
     "output_type": "execute_result",
     "data": {
      "text/plain": [
       "{'Henry': 1995, 'Samuel': 1999, 'Ingrid': 2005}"
      ]
     },
     "metadata": {},
     "execution_count": 6
    }
   ],
   "source": [
    "student_details = {\"Henry\": 1995,\n",
    "                   \"Samuel\": 1999,\n",
    "                   \"Ingrid\": 2005}\n",
    "student_details                "
   ]
  },
  {
   "cell_type": "code",
   "execution_count": 7,
   "metadata": {},
   "outputs": [
    {
     "output_type": "execute_result",
     "data": {
      "text/plain": [
       "dict_keys(['Henry', 'Samuel', 'Ingrid'])"
      ]
     },
     "metadata": {},
     "execution_count": 7
    }
   ],
   "source": [
    "student_details.keys()"
   ]
  },
  {
   "cell_type": "code",
   "execution_count": 8,
   "metadata": {},
   "outputs": [
    {
     "output_type": "execute_result",
     "data": {
      "text/plain": [
       "True"
      ]
     },
     "metadata": {},
     "execution_count": 8
    }
   ],
   "source": [
    "\"Samuel\" in student_details"
   ]
  },
  {
   "cell_type": "code",
   "execution_count": 9,
   "metadata": {},
   "outputs": [
    {
     "output_type": "execute_result",
     "data": {
      "text/plain": [
       "False"
      ]
     },
     "metadata": {},
     "execution_count": 9
    }
   ],
   "source": [
    "\"Andrew\" in student_details"
   ]
  },
  {
   "cell_type": "code",
   "execution_count": 10,
   "metadata": {},
   "outputs": [
    {
     "output_type": "execute_result",
     "data": {
      "text/plain": [
       "dict_values([1995, 1999, 2005])"
      ]
     },
     "metadata": {},
     "execution_count": 10
    }
   ],
   "source": [
    "student_details.values()"
   ]
  },
  {
   "cell_type": "code",
   "execution_count": 11,
   "metadata": {},
   "outputs": [
    {
     "output_type": "execute_result",
     "data": {
      "text/plain": [
       "{False: 'Daniel', 'Aria': [1, 2, 3], 'Jacob': True}"
      ]
     },
     "metadata": {},
     "execution_count": 11
    }
   ],
   "source": [
    "mixed_dict = {False: \"Daniel\",\n",
    "              \"Aria\": [1, 2, 3],\n",
    "              \"Jacob\": True}\n",
    "mixed_dict              "
   ]
  },
  {
   "cell_type": "code",
   "execution_count": 14,
   "metadata": {},
   "outputs": [
    {
     "output_type": "execute_result",
     "data": {
      "text/plain": [
       "{'bike_owner': 'James Smith',\n",
       " 'bike_model': 'Ducati Monster 1200',\n",
       " 'bike_price': 28140,\n",
       " 'engine_displacement': 1197}"
      ]
     },
     "metadata": {},
     "execution_count": 14
    }
   ],
   "source": [
    "bike_details = {\"bike_owner\": \"James Smith\",\n",
    "                \"bike_model\": \"Ducati Monster 1200\",\n",
    "                \"bike_price\": 28140,\n",
    "                \"engine_displacement\": 1197}\n",
    "bike_details                "
   ]
  },
  {
   "cell_type": "code",
   "execution_count": 16,
   "metadata": {},
   "outputs": [],
   "source": [
    "bike_details[\"num_cylinders\"] = 2"
   ]
  },
  {
   "cell_type": "code",
   "execution_count": 17,
   "metadata": {},
   "outputs": [
    {
     "output_type": "execute_result",
     "data": {
      "text/plain": [
       "{'bike_owner': 'James Smith',\n",
       " 'bike_model': 'Ducati Monster 1200',\n",
       " 'bike_price': 28140,\n",
       " 'engine_displacement': 1197,\n",
       " 'num_cylinders': 2}"
      ]
     },
     "metadata": {},
     "execution_count": 17
    }
   ],
   "source": [
    "bike_details"
   ]
  },
  {
   "cell_type": "code",
   "execution_count": 18,
   "metadata": {},
   "outputs": [
    {
     "output_type": "execute_result",
     "data": {
      "text/plain": [
       "29140"
      ]
     },
     "metadata": {},
     "execution_count": 18
    }
   ],
   "source": [
    "bike_details[\"bike_price\"] = 29140\n",
    "bike_details[\"bike_price\"]"
   ]
  },
  {
   "cell_type": "code",
   "execution_count": 19,
   "metadata": {},
   "outputs": [
    {
     "output_type": "execute_result",
     "data": {
      "text/plain": [
       "29140"
      ]
     },
     "metadata": {},
     "execution_count": 19
    }
   ],
   "source": [
    "bike_details.get(\"bike_price\")"
   ]
  },
  {
   "cell_type": "code",
   "execution_count": 20,
   "metadata": {},
   "outputs": [
    {
     "output_type": "execute_result",
     "data": {
      "text/plain": [
       "{}"
      ]
     },
     "metadata": {},
     "execution_count": 20
    }
   ],
   "source": [
    "fruit_qty = {}\n",
    "fruit_qty"
   ]
  },
  {
   "cell_type": "code",
   "execution_count": 21,
   "metadata": {},
   "outputs": [
    {
     "output_type": "execute_result",
     "data": {
      "text/plain": [
       "{'Banana': 50, 'Apple': 78, 'Apricot': 40}"
      ]
     },
     "metadata": {},
     "execution_count": 21
    }
   ],
   "source": [
    "fruit_qty[\"Banana\"] = 50\n",
    "fruit_qty[\"Apple\"] = 78\n",
    "fruit_qty[\"Apricot\"] = 40\n",
    "fruit_qty"
   ]
  },
  {
   "cell_type": "code",
   "execution_count": 22,
   "metadata": {},
   "outputs": [
    {
     "output_type": "execute_result",
     "data": {
      "text/plain": [
       "{'Banana': 50, 'Apple': 78, 'Apricot': 40, 'Orange': 70, 'Avocado': 30}"
      ]
     },
     "metadata": {},
     "execution_count": 22
    }
   ],
   "source": [
    "fruit_qty[\"Orange\"] = 70\n",
    "fruit_qty[\"Avocado\"] = 30\n",
    "fruit_qty"
   ]
  },
  {
   "cell_type": "code",
   "execution_count": 23,
   "metadata": {},
   "outputs": [
    {
     "output_type": "execute_result",
     "data": {
      "text/plain": [
       "{'Banana': 50,\n",
       " 'Apple': 78,\n",
       " 'Apricot': 40,\n",
       " 'Orange': 70,\n",
       " 'Avocado': 30,\n",
       " 'Watermelon': 10}"
      ]
     },
     "metadata": {},
     "execution_count": 23
    }
   ],
   "source": [
    "fruit_qty[\"Watermelon\"] = 10\n",
    "fruit_qty"
   ]
  },
  {
   "cell_type": "code",
   "execution_count": 24,
   "metadata": {},
   "outputs": [
    {
     "output_type": "execute_result",
     "data": {
      "text/plain": [
       "{'Banana': [50, 60, 40, 55],\n",
       " 'Apple': [78, 86, 80, 60],\n",
       " 'Apricot': [40, 70, 30, 55],\n",
       " 'Orange': [70, 80, 60, 65],\n",
       " 'Avocado': [30, 50, 40, 45]}"
      ]
     },
     "metadata": {},
     "execution_count": 24
    }
   ],
   "source": [
    "fruit_qty_consumed = {\"Banana\": [50, 60, 40, 55],\n",
    "                      \"Apple\": [78, 86, 80, 60],\n",
    "                      \"Apricot\": [40, 70, 30, 55],\n",
    "                      \"Orange\": [70, 80, 60, 65],\n",
    "                      \"Avocado\": [30, 50, 40, 45]}\n",
    "fruit_qty_consumed                      "
   ]
  },
  {
   "cell_type": "code",
   "execution_count": 25,
   "metadata": {},
   "outputs": [
    {
     "output_type": "execute_result",
     "data": {
      "text/plain": [
       "{'Banana': {'Fri': 70, 'Sat': 80, 'Sun': 95},\n",
       " 'Apple': {'Fri': 90, 'Sat': 95, 'Sun': 110},\n",
       " 'Apricot': {'Fri': 70, 'Sat': 85, 'Sun': 95},\n",
       " 'Orange': {'Fri': 80, 'Sat': 90, 'Sun': 100},\n",
       " 'Avocado': {'Fri': 60, 'Sat': 70, 'Sun': 80}}"
      ]
     },
     "metadata": {},
     "execution_count": 25
    }
   ],
   "source": [
    "fruit_qty_consumed = {\n",
    "    \"Banana\": {\"Fri\": 70, \"Sat\": 80, \"Sun\": 95},\n",
    "    \"Apple\": {\"Fri\": 90, \"Sat\": 95, \"Sun\": 110},\n",
    "    \"Apricot\": {\"Fri\": 70, \"Sat\": 85, \"Sun\": 95},\n",
    "    \"Orange\": {\"Fri\": 80, \"Sat\": 90, \"Sun\": 100},\n",
    "    \"Avocado\": {\"Fri\": 60, \"Sat\": 70, \"Sun\": 80}\n",
    "}\n",
    "fruit_qty_consumed"
   ]
  },
  {
   "cell_type": "code",
   "execution_count": null,
   "metadata": {},
   "outputs": [],
   "source": []
  }
 ]
}