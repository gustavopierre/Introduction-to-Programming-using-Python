{
 "metadata": {
  "language_info": {
   "codemirror_mode": {
    "name": "ipython",
    "version": 3
   },
   "file_extension": ".py",
   "mimetype": "text/x-python",
   "name": "python",
   "nbconvert_exporter": "python",
   "pygments_lexer": "ipython3",
   "version": "3.9.2"
  },
  "orig_nbformat": 2,
  "kernelspec": {
   "name": "pythonjvsc74a57bd034485712827e820f546f4f1c931a62b71ccff1ebd0099144232c128b6294c001",
   "display_name": "Python 3.9.2  ('.venv': venv)"
  },
  "metadata": {
   "interpreter": {
    "hash": "34485712827e820f546f4f1c931a62b71ccff1ebd0099144232c128b6294c001"
   }
  }
 },
 "nbformat": 4,
 "nbformat_minor": 2,
 "cells": [
  {
   "cell_type": "code",
   "execution_count": null,
   "metadata": {},
   "outputs": [
    {
     "output_type": "error",
     "ename": "Error",
     "evalue": "Pip module Unable to parse debugpy output, please log an issue with https://github.com/microsoft/vscode-jupyter is required for debugging cells. You will need to install it to debug cells.",
     "traceback": [
      "Error: Pip module Unable to parse debugpy output, please log an issue with https://github.com/microsoft/vscode-jupyter is required for debugging cells. You will need to install it to debug cells.",
      "at _.parseConnectInfo (c:\\Users\\gusta\\.vscode\\extensions\\ms-toolsai.jupyter-2021.6.811652604\\out\\client\\extension.js:90:161460)",
      "at _.connectToLocal (c:\\Users\\gusta\\.vscode\\extensions\\ms-toolsai.jupyter-2021.6.811652604\\out\\client\\extension.js:90:161987)",
      "at async _.connect (c:\\Users\\gusta\\.vscode\\extensions\\ms-toolsai.jupyter-2021.6.811652604\\out\\client\\extension.js:90:159864)",
      "at async _.startDebugSession (c:\\Users\\gusta\\.vscode\\extensions\\ms-toolsai.jupyter-2021.6.811652604\\out\\client\\extension.js:90:159011)",
      "at async D.submitCode (c:\\Users\\gusta\\.vscode\\extensions\\ms-toolsai.jupyter-2021.6.811652604\\out\\client\\extension.js:37:622311)",
      "at async D.handleRunByLine (c:\\Users\\gusta\\.vscode\\extensions\\ms-toolsai.jupyter-2021.6.811652604\\out\\client\\extension.js:37:610255)"
     ]
    }
   ],
   "source": [
    "salary = int(input(\"Enter salary amount: \"))\n",
    "expenses = int(input(\"Enter expenses: \"))\n",
    "\n",
    "savings = salary - expenses\n",
    "\n",
    "print(\"My total savings in a month is: \", savings)"
   ]
  },
  {
   "cell_type": "code",
   "execution_count": null,
   "metadata": {},
   "outputs": [],
   "source": []
  },
  {
   "cell_type": "code",
   "execution_count": null,
   "metadata": {},
   "outputs": [],
   "source": []
  }
 ]
}